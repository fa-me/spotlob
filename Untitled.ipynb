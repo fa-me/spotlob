{
 "cells": [
  {
   "cell_type": "code",
   "execution_count": 6,
   "metadata": {},
   "outputs": [],
   "source": [
    "import pandas as pd\n",
    "import numpy as np"
   ]
  },
  {
   "cell_type": "code",
   "execution_count": 2,
   "metadata": {},
   "outputs": [],
   "source": [
    "contours = np.random.rand(20,10000,2)"
   ]
  },
  {
   "cell_type": "code",
   "execution_count": 3,
   "metadata": {},
   "outputs": [],
   "source": [
    "df = pd.DataFrame([{\"contour\":c} for c in contours])"
   ]
  },
  {
   "cell_type": "code",
   "execution_count": 5,
   "metadata": {},
   "outputs": [],
   "source": [
    "df.to_csv(\"test.csv\") # this does not store the contours correctly :("
   ]
  },
  {
   "cell_type": "code",
   "execution_count": 76,
   "metadata": {},
   "outputs": [],
   "source": [
    "class Register:\n",
    "    binarizations = []\n",
    "    \n",
    "    @classmethod\n",
    "    def binarization(cls, func):\n",
    "        cls.binarizations += [func]\n",
    "\n",
    "\n",
    "class Processes:\n",
    "    def __init__(self, pipeline):\n",
    "        self.pipeline = pipeline\n",
    "    \n",
    "    @Register.binarization\n",
    "    def threshold(self, img, par1, par2):\n",
    "        return img    \n",
    "    \n",
    "    @Register.binarization\n",
    "    def threshold2(self, img, par1, par2):\n",
    "        return img\n",
    "\n",
    "class Processes2:\n",
    "    def __init__(self, pipeline):\n",
    "        self.pipeline = pipeline\n",
    "    \n",
    "    @Register.binarization\n",
    "    def threshold3(self, img, par1, par2):\n",
    "        return img    \n",
    "    \n",
    "    @Register.binarization\n",
    "    def threshold4(self, img, par1, par2):\n",
    "        return img"
   ]
  },
  {
   "cell_type": "code",
   "execution_count": 77,
   "metadata": {},
   "outputs": [
    {
     "data": {
      "text/plain": [
       "['threshold', 'threshold2', 'threshold3', 'threshold4']"
      ]
     },
     "execution_count": 77,
     "metadata": {},
     "output_type": "execute_result"
    }
   ],
   "source": [
    "[fn.__name__ for fn in Register.binarizations]"
   ]
  },
  {
   "cell_type": "code",
   "execution_count": 67,
   "metadata": {},
   "outputs": [],
   "source": [
    "from spim import Spim, SpimStage"
   ]
  },
  {
   "cell_type": "code",
   "execution_count": 31,
   "metadata": {},
   "outputs": [],
   "source": [
    "import cv2\n",
    "import matplotlib.pyplot as plt\n",
    "import numpy as np\n",
    "%matplotlib inline"
   ]
  },
  {
   "cell_type": "code",
   "execution_count": 78,
   "metadata": {},
   "outputs": [],
   "source": [
    "def reader(filepath=\"\"):\n",
    "    return cv2.imread(filepath), {\"filepath\": filepath}\n",
    "def greyscale_converter(image):\n",
    "    return cv2.cvtColor(image, cv2.COLOR_BGR2GRAY).astype(np.uint8)\n",
    "def gaussian_preprocess(grey_image, kernel_size = 3):    \n",
    "    kernel = np.ones((kernel_size,kernel_size),np.float32)/kernel_size**2\n",
    "    grey_image = cv2.filter2D(grey_image,-1,kernel)\n",
    "    return grey_image\n",
    "def binary_threshold(grey_image, threshold=100):\n",
    "    thresh,im = cv2.threshold(grey_image, threshold, 255, cv2.THRESH_BINARY)\n",
    "    return im\n",
    "def postprocess_nothing(bin_im):\n",
    "    return bin_im\n",
    "def contour_finder_simple(bin_im):\n",
    "    cim, contours, _ = cv2.findContours(bin_im, cv2.RETR_EXTERNAL, cv2.CHAIN_APPROX_SIMPLE)\n",
    "    return contours\n",
    "def feature_filter_none(contours):\n",
    "    return contours\n",
    "def analysis(contours):\n",
    "    return contours"
   ]
  },
  {
   "cell_type": "code",
   "execution_count": 63,
   "metadata": {},
   "outputs": [],
   "source": [
    "s0 = Spim()\n",
    "s0 = s0.read(reader, {\"filepath\": \"test/testim.png\"})\n",
    "s1 = s0.convert(greyscale,{}) \\\n",
    "        .preprocess(gaussian_preprocess, {\"kernel_size\":5})\\\n",
    "        .binarize(binary_threshold, {\"threshold\": 100})\\\n",
    "        .postprocess(postprocess_nothing, {}) \\\n",
    "        .extract_features(contour_finder_simple, {})\\\n",
    "        .filter_features(feature_filter_none, {})\\"
   ]
  },
  {
   "cell_type": "code",
   "execution_count": null,
   "metadata": {},
   "outputs": [],
   "source": []
  }
 ],
 "metadata": {
  "kernelspec": {
   "display_name": "Python [conda env:laser-default]",
   "language": "python",
   "name": "conda-env-laser-default-py"
  },
  "language_info": {
   "codemirror_mode": {
    "name": "ipython",
    "version": 2
   },
   "file_extension": ".py",
   "mimetype": "text/x-python",
   "name": "python",
   "nbconvert_exporter": "python",
   "pygments_lexer": "ipython2",
   "version": "2.7.11"
  }
 },
 "nbformat": 4,
 "nbformat_minor": 2
}
