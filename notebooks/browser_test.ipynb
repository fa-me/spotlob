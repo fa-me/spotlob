{
 "cells": [
  {
   "cell_type": "code",
   "execution_count": 1,
   "metadata": {},
   "outputs": [],
   "source": [
    "%matplotlib notebook"
   ]
  },
  {
   "cell_type": "code",
   "execution_count": 2,
   "metadata": {},
   "outputs": [],
   "source": [
    "from ipywidgets import Button, Label, HBox, VBox, Text\n",
    "from IPython.display import display, clear_output\n",
    "import glob"
   ]
  },
  {
   "cell_type": "code",
   "execution_count": 3,
   "metadata": {},
   "outputs": [],
   "source": [
    "from spotlob.defaults import make_gui, show_gui"
   ]
  },
  {
   "cell_type": "code",
   "execution_count": 7,
   "metadata": {},
   "outputs": [],
   "source": [
    "class Browser:\n",
    "    files = [\"1.jpg\", \"2.jpg\", \"3.jpg\"]\n",
    "    index = 0\n",
    "    \n",
    "    @classmethod\n",
    "    def current(cls):\n",
    "        return cls.files[cls.index]\n",
    "    @classmethod\n",
    "    def next(cls):\n",
    "        cls.index = (cls.index + 1)%len(cls.files)\n",
    "    @classmethod\n",
    "    def prev(cls):\n",
    "        cls.index = (cls.index - 1)%len(cls.files)\n",
    "\n",
    "def update():\n",
    "    clear_output()\n",
    "    display(browser_widget(Browser.current()))\n",
    "    gui.new_image(Browser.current())\n",
    "\n",
    "def on_click_left(btn):\n",
    "    Browser.next()\n",
    "    update()\n",
    "def on_click_right(btn):\n",
    "    Browser.prev()\n",
    "    update()\n",
    "def update_filelist(sender):\n",
    "    files = glob.glob(sender.value)\n",
    "    Browser.files = files"
   ]
  },
  {
   "cell_type": "code",
   "execution_count": 5,
   "metadata": {},
   "outputs": [],
   "source": [
    "def browser_widget(startpath):\n",
    "    Browser.files = glob.glob(startpath)\n",
    "    textinput = Text(description=\"file pattern\", value=startpath)\n",
    "    left = Button(description=\"\", icon=\"arrow-left\")\n",
    "    right = Button(description=\"\", icon=\"arrow-right\")\n",
    "    \n",
    "    textinput.on_submit(update_filelist)\n",
    "    left.on_click(on_click_left)\n",
    "    right.on_click(on_click_right)\n",
    "    return VBox([textinput, HBox([left, right])])"
   ]
  },
  {
   "cell_type": "code",
   "execution_count": 6,
   "metadata": {},
   "outputs": [
    {
     "data": {
      "application/vnd.jupyter.widget-view+json": {
       "model_id": "ff1d935d92ad416f813e8a56d03d5cd1",
       "version_major": 2,
       "version_minor": 0
      },
      "text/plain": [
       "VkJveChjaGlsZHJlbj0oVGV4dCh2YWx1ZT11Jy4uL3BwL3VsdHJhZmFzdCBWSVMgVklTL3RocmVzaG9sZC9ydW5DLzIwMTgxMDE1LTE4MTkzMi1CaWxkLS0wMDEucG5nJywgZGVzY3JpcHRpb27igKY=\n"
      ]
     },
     "metadata": {},
     "output_type": "display_data"
    },
    {
     "ename": "AttributeError",
     "evalue": "'SpotlobNotebookGui' object has no attribute 'new_image'",
     "output_type": "error",
     "traceback": [
      "\u001b[0;31m---------------------------------------------------------------------------\u001b[0m",
      "\u001b[0;31mAttributeError\u001b[0m                            Traceback (most recent call last)",
      "\u001b[0;32m<ipython-input-4-99f192e147bd>\u001b[0m in \u001b[0;36mon_click_left\u001b[0;34m(btn)\u001b[0m\n\u001b[1;32m     20\u001b[0m \u001b[0;32mdef\u001b[0m \u001b[0mon_click_left\u001b[0m\u001b[0;34m(\u001b[0m\u001b[0mbtn\u001b[0m\u001b[0;34m)\u001b[0m\u001b[0;34m:\u001b[0m\u001b[0;34m\u001b[0m\u001b[0m\n\u001b[1;32m     21\u001b[0m     \u001b[0mBrowser\u001b[0m\u001b[0;34m.\u001b[0m\u001b[0mnext\u001b[0m\u001b[0;34m(\u001b[0m\u001b[0;34m)\u001b[0m\u001b[0;34m\u001b[0m\u001b[0m\n\u001b[0;32m---> 22\u001b[0;31m     \u001b[0mupdate\u001b[0m\u001b[0;34m(\u001b[0m\u001b[0;34m)\u001b[0m\u001b[0;34m\u001b[0m\u001b[0m\n\u001b[0m\u001b[1;32m     23\u001b[0m \u001b[0;32mdef\u001b[0m \u001b[0mon_click_right\u001b[0m\u001b[0;34m(\u001b[0m\u001b[0mbtn\u001b[0m\u001b[0;34m)\u001b[0m\u001b[0;34m:\u001b[0m\u001b[0;34m\u001b[0m\u001b[0m\n\u001b[1;32m     24\u001b[0m     \u001b[0mBrowser\u001b[0m\u001b[0;34m.\u001b[0m\u001b[0mprev\u001b[0m\u001b[0;34m(\u001b[0m\u001b[0;34m)\u001b[0m\u001b[0;34m\u001b[0m\u001b[0m\n",
      "\u001b[0;32m<ipython-input-4-99f192e147bd>\u001b[0m in \u001b[0;36mupdate\u001b[0;34m()\u001b[0m\n\u001b[1;32m     16\u001b[0m     \u001b[0mclear_output\u001b[0m\u001b[0;34m(\u001b[0m\u001b[0;34m)\u001b[0m\u001b[0;34m\u001b[0m\u001b[0m\n\u001b[1;32m     17\u001b[0m     \u001b[0mdisplay\u001b[0m\u001b[0;34m(\u001b[0m\u001b[0mbrowser_widget\u001b[0m\u001b[0;34m(\u001b[0m\u001b[0mBrowser\u001b[0m\u001b[0;34m.\u001b[0m\u001b[0mcurrent\u001b[0m\u001b[0;34m(\u001b[0m\u001b[0;34m)\u001b[0m\u001b[0;34m)\u001b[0m\u001b[0;34m)\u001b[0m\u001b[0;34m\u001b[0m\u001b[0m\n\u001b[0;32m---> 18\u001b[0;31m     \u001b[0mgui\u001b[0m\u001b[0;34m.\u001b[0m\u001b[0mnew_image\u001b[0m\u001b[0;34m(\u001b[0m\u001b[0mBrowser\u001b[0m\u001b[0;34m.\u001b[0m\u001b[0mcurrent\u001b[0m\u001b[0;34m(\u001b[0m\u001b[0;34m)\u001b[0m\u001b[0;34m)\u001b[0m\u001b[0;34m\u001b[0m\u001b[0m\n\u001b[0m\u001b[1;32m     19\u001b[0m \u001b[0;34m\u001b[0m\u001b[0m\n\u001b[1;32m     20\u001b[0m \u001b[0;32mdef\u001b[0m \u001b[0mon_click_left\u001b[0m\u001b[0;34m(\u001b[0m\u001b[0mbtn\u001b[0m\u001b[0;34m)\u001b[0m\u001b[0;34m:\u001b[0m\u001b[0;34m\u001b[0m\u001b[0m\n",
      "\u001b[0;31mAttributeError\u001b[0m: 'SpotlobNotebookGui' object has no attribute 'new_image'"
     ]
    }
   ],
   "source": [
    "display(browser_widget(\"../pp/ultrafast VIS VIS/threshold/runC/*.png\"))\n",
    "gui = make_gui(Browser.current())\n",
    "\n",
    "try:\n",
    "    show_gui(gui)\n",
    "except:\n",
    "    display(Label(\"could not show file %s\"% Browser.current()))\n"
   ]
  },
  {
   "cell_type": "markdown",
   "metadata": {},
   "source": [
    "../pp/ultrafast VIS VIS/threshold/runC/*.png"
   ]
  },
  {
   "cell_type": "code",
   "execution_count": null,
   "metadata": {},
   "outputs": [],
   "source": []
  }
 ],
 "metadata": {
  "kernelspec": {
   "display_name": "laser-default",
   "language": "python",
   "name": "laser-default"
  },
  "language_info": {
   "codemirror_mode": {
    "name": "ipython",
    "version": 2
   },
   "file_extension": ".py",
   "mimetype": "text/x-python",
   "name": "python",
   "nbconvert_exporter": "python",
   "pygments_lexer": "ipython2",
   "version": "2.7.15"
  }
 },
 "nbformat": 4,
 "nbformat_minor": 2
}
