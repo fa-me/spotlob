{
 "cells": [
  {
   "cell_type": "markdown",
   "metadata": {
    "slideshow": {
     "slide_type": "slide"
    }
   },
   "source": [
    "# spotlob\n",
    "\n",
    "\n",
    "Version 0.9.0a\n",
    "\n",
    "---\n",
    "\n",
    "Python meetup 18.04.2019\n",
    "\n",
    "\n",
    "Fabian Meyer\n",
    "\n",
    "Fraunhofer ISE"
   ]
  },
  {
   "cell_type": "markdown",
   "metadata": {
    "slideshow": {
     "slide_type": "slide"
    }
   },
   "source": [
    "# Task: image segmentation\n",
    "\n",
    "* Find features in scientific image data\n",
    "* Precise measurement\n",
    "* Traceable and repeatable evaluation\n",
    "* no training data available\n",
    "* Semi-automatic: tweaking will be needed\n",
    "\n",
    "\n",
    "<img src=\"presentation-images/usecases.png\">"
   ]
  },
  {
   "cell_type": "markdown",
   "metadata": {
    "slideshow": {
     "slide_type": "slide"
    }
   },
   "source": [
    "# There is very mature software for this...\n",
    "\n",
    "\n",
    "<br>\n",
    "<table>\n",
    "    <tr>\n",
    "        <td>\n",
    "            <img src=\"presentation-images/opencv.png\" height=\"200\" width=\"200\">\n",
    "        </td>\n",
    "        <td>\n",
    "            <img src=\"presentation-images/scikit-image.png\" height=\"200\" width=\"200\">\n",
    "        </td>\n",
    "    </tr>  \n",
    "    <tr>\n",
    "        <td style=\"text-align:left; font-size:16pt\">\n",
    "            <h3>OpenCV</h3>\n",
    "            <ul>\n",
    "                <li>C/C++ with Python interface</li>\n",
    "                <li>fast</li>\n",
    "                <li>also very popular outside Python world</li>\n",
    "                <li>not exactly pythonic to use</li>\n",
    "            </ul>  \n",
    "        </td>\n",
    "        <td style=\"text-align:left; font-size:16pt; vertical-align:top\">\n",
    "            <h3>Scikit-image</h3>\n",
    "            <ul>\n",
    "                <li>Python/Cython</li>\n",
    "                <li>feature-rich</li>\n",
    "                <li>integrates well with other popular python packages</li>\n",
    "                <li>great documentation</li>\n",
    "            </ul>\n",
    "        </td>\n",
    "    </tr>  \n",
    "</table>"
   ]
  },
  {
   "cell_type": "markdown",
   "metadata": {
    "slideshow": {
     "slide_type": "slide"
    }
   },
   "source": [
    "# Why spotlob?"
   ]
  },
  {
   "cell_type": "markdown",
   "metadata": {
    "slideshow": {
     "slide_type": "fragment"
    }
   },
   "source": [
    "## Typical workflow\n",
    "\n",
    "1. record a new set of images\n",
    "2. search for an old script to evaluate them\n",
    "3. doesn't work\n",
    "4. search for another script to evaluate them\n",
    "3. doesn't work\n",
    "4. merge the scripts and make it work by iteratively changing parameters\n",
    "5. apply script on whole set of images\n",
    "6. memory full"
   ]
  },
  {
   "cell_type": "markdown",
   "metadata": {
    "slideshow": {
     "slide_type": "fragment"
    }
   },
   "source": [
    "## Two months later: next set of images\n",
    "start all over"
   ]
  },
  {
   "cell_type": "markdown",
   "metadata": {
    "slideshow": {
     "slide_type": "slide"
    }
   },
   "source": [
    "# Why spotlob?\n",
    "\n",
    "* finding the right detection quicker\n",
    "* standardize for later use\n",
    "* don't lose flexibility compared to scripting\n",
    "* jupyter compatible\n",
    "* low memory consumption\n",
    "* multithreaded batch processing\n",
    "* combine multiple libraries"
   ]
  },
  {
   "cell_type": "markdown",
   "metadata": {
    "slideshow": {
     "slide_type": "slide"
    }
   },
   "source": [
    "# Notebook demo"
   ]
  },
  {
   "cell_type": "code",
   "execution_count": null,
   "metadata": {
    "slideshow": {
     "slide_type": "fragment"
    }
   },
   "outputs": [],
   "source": [
    "%matplotlib widget"
   ]
  },
  {
   "cell_type": "code",
   "execution_count": null,
   "metadata": {},
   "outputs": [],
   "source": [
    "import sys\n",
    "sys.path.append(\"../\")"
   ]
  },
  {
   "cell_type": "code",
   "execution_count": null,
   "metadata": {
    "slideshow": {
     "slide_type": "fragment"
    }
   },
   "outputs": [],
   "source": [
    "from spotlob.defaults import *\n",
    "\n",
    "gui = make_gui(\"presentation-images/demoim.jpg\")\n",
    "show_gui(gui)"
   ]
  },
  {
   "cell_type": "markdown",
   "metadata": {
    "slideshow": {
     "slide_type": "slide"
    }
   },
   "source": [
    "<img src=\"presentation-images\\pipeline.png\">\n",
    "\n",
    "# Detection process steps"
   ]
  },
  {
   "cell_type": "markdown",
   "metadata": {
    "slideshow": {
     "slide_type": "slide"
    }
   },
   "source": [
    "# Conversion\n",
    "\n",
    "<img src=\"presentation-images/hsv.png\" width=\"800px\" height=\"600px\">"
   ]
  },
  {
   "cell_type": "markdown",
   "metadata": {
    "slideshow": {
     "slide_type": "slide"
    }
   },
   "source": [
    "<img src=\"presentation-images\\pipeline.png\">\n",
    "\n",
    "# Detect features - the pipeline\n",
    "\n",
    "1. Load image as array\n",
    "2. Extract a single channel\n",
    "4. Binarization\n",
    "6. Find connected areas\n",
    "7. Evaluate them"
   ]
  },
  {
   "cell_type": "markdown",
   "metadata": {
    "slideshow": {
     "slide_type": "slide"
    }
   },
   "source": [
    "# Results as pandas dataframes"
   ]
  },
  {
   "cell_type": "code",
   "execution_count": null,
   "metadata": {
    "slideshow": {
     "slide_type": "fragment"
    }
   },
   "outputs": [],
   "source": [
    "gui.results()"
   ]
  },
  {
   "cell_type": "markdown",
   "metadata": {
    "slideshow": {
     "slide_type": "slide"
    }
   },
   "source": [
    "# The pipeline"
   ]
  },
  {
   "cell_type": "code",
   "execution_count": null,
   "metadata": {
    "scrolled": true,
    "slideshow": {
     "slide_type": "-"
    }
   },
   "outputs": [],
   "source": [
    "print(gui.pipeline)"
   ]
  },
  {
   "cell_type": "markdown",
   "metadata": {
    "slideshow": {
     "slide_type": "slide"
    }
   },
   "source": [
    "# The pipeline"
   ]
  },
  {
   "cell_type": "markdown",
   "metadata": {
    "slideshow": {
     "slide_type": "-"
    }
   },
   "source": [
    "* the sequence of processes to apply, ProcessSteps\n",
    "* the parameters\n",
    "\n",
    "= everything you need to know to repeat the detection"
   ]
  },
  {
   "cell_type": "markdown",
   "metadata": {
    "slideshow": {
     "slide_type": "slide"
    }
   },
   "source": [
    "# Store the pipeline"
   ]
  },
  {
   "cell_type": "code",
   "execution_count": null,
   "metadata": {},
   "outputs": [],
   "source": [
    "gui.pipeline.save(\"mypipe.pipe\")"
   ]
  },
  {
   "cell_type": "markdown",
   "metadata": {
    "slideshow": {
     "slide_type": "fragment"
    }
   },
   "source": [
    "# and restore"
   ]
  },
  {
   "cell_type": "code",
   "execution_count": null,
   "metadata": {},
   "outputs": [],
   "source": [
    "from spotlob.pipeline import Pipeline\n",
    "\n",
    "mypipe = Pipeline.from_file(\"mypipe.pipe\")\n",
    "\n",
    "print(mypipe)"
   ]
  },
  {
   "cell_type": "markdown",
   "metadata": {
    "slideshow": {
     "slide_type": "slide"
    }
   },
   "source": [
    "# batch processing"
   ]
  },
  {
   "cell_type": "code",
   "execution_count": null,
   "metadata": {},
   "outputs": [],
   "source": [
    "from glob import glob\n",
    "\n",
    "all_images = glob(\"*.JPG\")"
   ]
  },
  {
   "cell_type": "code",
   "execution_count": null,
   "metadata": {
    "slideshow": {
     "slide_type": "fragment"
    }
   },
   "outputs": [],
   "source": [
    "from spotlob.batch import batchprocess\n",
    "\n",
    "all_results = batchprocess(\"mypipe.pipe\", all_images)"
   ]
  },
  {
   "cell_type": "code",
   "execution_count": null,
   "metadata": {
    "slideshow": {
     "slide_type": "slide"
    }
   },
   "outputs": [],
   "source": [
    "all_results.groupby(\"filepath\").agg([\"mean\", \"std\"])"
   ]
  },
  {
   "cell_type": "markdown",
   "metadata": {
    "slideshow": {
     "slide_type": "slide"
    }
   },
   "source": [
    "# Change the pipeline"
   ]
  },
  {
   "cell_type": "markdown",
   "metadata": {},
   "source": [
    "another binarization function"
   ]
  },
  {
   "cell_type": "code",
   "execution_count": null,
   "metadata": {},
   "outputs": [],
   "source": [
    "from spotlob.process_opencv import BinaryThreshold\n",
    "\n",
    "binarization = BinaryThreshold(threshold = 100)\n",
    "\n",
    "new_pipeline = gui.pipeline.replaced_with(binarization)\n",
    "\n",
    "print(new_pipeline)"
   ]
  },
  {
   "cell_type": "markdown",
   "metadata": {
    "slideshow": {
     "slide_type": "slide"
    }
   },
   "source": [
    "# Use the new pipeline"
   ]
  },
  {
   "cell_type": "code",
   "execution_count": null,
   "metadata": {},
   "outputs": [],
   "source": [
    "gui = make_gui(\"presentation-images/demoim.jpg\")\n",
    "\n",
    "gui.pipeline = new_pipeline\n",
    "\n",
    "show_gui(gui)"
   ]
  },
  {
   "cell_type": "markdown",
   "metadata": {
    "slideshow": {
     "slide_type": "slide"
    }
   },
   "source": [
    "# Extend spotlob: subclassing"
   ]
  },
  {
   "cell_type": "code",
   "execution_count": null,
   "metadata": {},
   "outputs": [],
   "source": [
    "from spotlob.process_steps import Binarization\n",
    "\n",
    "class MyThreshold(Binarization):\n",
    "    \n",
    "    def __init__(self, threshold):\n",
    "        threshold_parameter = NumericRangeParameter(\"threshold\", threshold, 0, 255)\n",
    "        \n",
    "        pars = SpotlobParameterSet([threshold_parameter])\n",
    "        \n",
    "        super(BinaryThreshold, self).__init__(self.threshold_fn, pars)\n",
    "\n",
    "    def my_threshold_function(self, grey_image, threshold):\n",
    "        _, im = cv2.threshold(grey_image, threshold, 255, cv2.THRESH_BINARY)\n",
    "        return im"
   ]
  },
  {
   "cell_type": "markdown",
   "metadata": {
    "slideshow": {
     "slide_type": "slide"
    }
   },
   "source": [
    "# Extend spotlob: with a function..."
   ]
  },
  {
   "cell_type": "code",
   "execution_count": null,
   "metadata": {
    "slideshow": {
     "slide_type": "-"
    }
   },
   "outputs": [],
   "source": [
    "import numpy as np\n",
    "\n",
    "def my_threshold(image, lower_threshold, upper_threshold):\n",
    "    above_lower = image > lower_threshold\n",
    "    below_upper = image < upper_threshold\n",
    "    \n",
    "    out = np.logical_and(above_lower,\n",
    "                         below_upper).astype(np.uint8)*255\n",
    "    return out"
   ]
  },
  {
   "cell_type": "markdown",
   "metadata": {
    "slideshow": {
     "slide_type": "slide"
    }
   },
   "source": [
    "# Extend spotlob: ...using decorators"
   ]
  },
  {
   "cell_type": "code",
   "execution_count": null,
   "metadata": {},
   "outputs": [],
   "source": [
    "from spotlob.register import PROCESS_REGISTER as register\n",
    "\n",
    "gui = make_gui(\"presentation-images/demoim.jpg\")\n",
    "\n",
    "@use_in(gui)\n",
    "@register.binarization_plugin([(\"lower_threshold\",(0,255,100)),\n",
    "                               (\"upper_threshold\",(0,255,200))])\n",
    "def my_threshold(image, lower_threshold, upper_threshold):\n",
    "    above_lower = image > lower_threshold\n",
    "    below_upper = image < upper_threshold\n",
    "    \n",
    "    out = np.logical_and(above_lower,\n",
    "                         below_upper).astype(np.uint8)*255\n",
    "    return out"
   ]
  },
  {
   "cell_type": "markdown",
   "metadata": {
    "slideshow": {
     "slide_type": "slide"
    }
   },
   "source": [
    "# `@use_in(gui)`"
   ]
  },
  {
   "cell_type": "code",
   "execution_count": null,
   "metadata": {},
   "outputs": [],
   "source": [
    "%matplotlib widget\n",
    "show_gui(gui)"
   ]
  },
  {
   "cell_type": "markdown",
   "metadata": {
    "slideshow": {
     "slide_type": "slide"
    }
   },
   "source": [
    "# jupyter.ise.fhg.de\n",
    "\n",
    "use kernel `Python 3.6.3`\n",
    "\n",
    "# Installation\n",
    "\n",
    "```\n",
    "pip install spotlob\n",
    "```\n",
    "\n",
    "# Source & docs\n",
    "\n",
    "```\n",
    "https://gitlab.cc-asp.fraunhofer.de/fmeyer/spotlob\n",
    "```"
   ]
  },
  {
   "cell_type": "markdown",
   "metadata": {
    "slideshow": {
     "slide_type": "slide"
    }
   },
   "source": [
    "# Thank you\n",
    "## for your attention"
   ]
  },
  {
   "cell_type": "markdown",
   "metadata": {
    "slideshow": {
     "slide_type": "slide"
    }
   },
   "source": [
    "# Questions\n",
    "# Suggestions"
   ]
  }
 ],
 "metadata": {
  "celltoolbar": "Slideshow",
  "kernelspec": {
   "display_name": "Python 3",
   "language": "python",
   "name": "python3"
  },
  "language_info": {
   "codemirror_mode": {
    "name": "ipython",
    "version": 3
   },
   "file_extension": ".py",
   "mimetype": "text/x-python",
   "name": "python",
   "nbconvert_exporter": "python",
   "pygments_lexer": "ipython3",
   "version": "3.7.2"
  }
 },
 "nbformat": 4,
 "nbformat_minor": 2
}
