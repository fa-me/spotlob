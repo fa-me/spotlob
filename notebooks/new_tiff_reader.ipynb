{
 "cells": [
  {
   "cell_type": "code",
   "execution_count": 1,
   "id": "b1b59a54",
   "metadata": {},
   "outputs": [],
   "source": [
    "# %matplotlib widget"
   ]
  },
  {
   "cell_type": "code",
   "execution_count": 2,
   "id": "8d3d924e",
   "metadata": {},
   "outputs": [],
   "source": [
    "import sys\n",
    "sys.path.append(\"..\")"
   ]
  },
  {
   "cell_type": "code",
   "execution_count": 3,
   "id": "3019ca9a",
   "metadata": {},
   "outputs": [],
   "source": [
    "import os\n",
    "import numpy as np\n",
    "import pandas as pd\n",
    "import spotlob\n",
    "import tifffile as tf\n",
    "import matplotlib.pyplot as plt"
   ]
  },
  {
   "cell_type": "code",
   "execution_count": 4,
   "id": "3fdac428",
   "metadata": {},
   "outputs": [],
   "source": [
    "from spotlob.process_steps import Reader\n",
    "from spotlob.parameters import NumericRangeParameter"
   ]
  },
  {
   "cell_type": "code",
   "execution_count": 5,
   "id": "5c40e6be",
   "metadata": {},
   "outputs": [],
   "source": [
    "class TifReader(Reader):\n",
    "    \"\"\"\n",
    "    Reads an image from a file as an RGB file.\n",
    "    Only image format `tif` is supported.\n",
    "    It uses `tifffile.memmap`.\n",
    "    \"\"\"\n",
    "\n",
    "    def __init__(self, filepath, xpix, ypix):\n",
    "        # TODO: xpix and ypix aus Metadaten einlesen\n",
    "        pars = [NumericRangeParameter(\"width\", xpix), \n",
    "                NumericRangeParameter(\"height\", ypix)]\n",
    "        super(TifReader, self).__init__(self.partial_read, pars)\n",
    "       \n",
    "\n",
    "    def partial_read(self, filepath, width, height, startingpoint= (0, 0)):\n",
    "        if os.path.exists(filepath):\n",
    "            return tf.memmap(filepath, dtype= np.uint8)[startingpoint[1]: startingpoint[1] + height,\\\n",
    "                                     startingpoint[0]: startingpoint[0] + width, :]\n",
    "        else:\n",
    "            raise IOError(f\"File {filepath} not found\")"
   ]
  },
  {
   "cell_type": "code",
   "execution_count": 6,
   "id": "c17f0839",
   "metadata": {},
   "outputs": [
    {
     "output_type": "error",
     "ename": "TypeError",
     "evalue": "__init__() missing 2 required positional arguments: 'xpix' and 'ypix'",
     "traceback": [
      "\u001b[1;31m---------------------------------------------------------------------------\u001b[0m",
      "\u001b[1;31mTypeError\u001b[0m                                 Traceback (most recent call last)",
      "\u001b[1;32m<ipython-input-6-adb5f0d0d21c>\u001b[0m in \u001b[0;36m<module>\u001b[1;34m\u001b[0m\n\u001b[1;32m----> 1\u001b[1;33m \u001b[0mh\u001b[0m \u001b[1;33m=\u001b[0m \u001b[0mTifReader\u001b[0m\u001b[1;33m(\u001b[0m\u001b[1;34m\"testimg4.tif\"\u001b[0m\u001b[1;33m)\u001b[0m\u001b[1;33m\u001b[0m\u001b[1;33m\u001b[0m\u001b[0m\n\u001b[0m",
      "\u001b[1;31mTypeError\u001b[0m: __init__() missing 2 required positional arguments: 'xpix' and 'ypix'"
     ]
    }
   ],
   "source": [
    "h = TifReader(\"testimg4.tif\")"
   ]
  },
  {
   "cell_type": "code",
   "execution_count": null,
   "id": "aed2d32d",
   "metadata": {},
   "outputs": [],
   "source": [
    "import imageio as im"
   ]
  },
  {
   "cell_type": "code",
   "execution_count": null,
   "id": "583dedd5",
   "metadata": {},
   "outputs": [],
   "source": [
    "array = h.partial_read(\"testtif.tif\", 200, 300, (400, 400))\n",
    "# img = im.imwrite(\"TTT.tif\", array)\n",
    "plt.imshow(array)"
   ]
  },
  {
   "cell_type": "code",
   "execution_count": null,
   "id": "9241dfa5",
   "metadata": {},
   "outputs": [],
   "source": []
  },
  {
   "cell_type": "code",
   "execution_count": null,
   "metadata": {},
   "outputs": [],
   "source": []
  },
  {
   "cell_type": "code",
   "execution_count": null,
   "metadata": {},
   "outputs": [],
   "source": []
  }
 ],
 "metadata": {
  "kernelspec": {
   "name": "python390jvsc74a57bd0b61b7dc30a799cf782db37eb6df61b2e72e133f554c7ce566ea27f561f985c87",
   "display_name": "Python 3.9.0 64-bit"
  },
  "language_info": {
   "codemirror_mode": {
    "name": "ipython",
    "version": 3
   },
   "file_extension": ".py",
   "mimetype": "text/x-python",
   "name": "python",
   "nbconvert_exporter": "python",
   "pygments_lexer": "ipython3",
   "version": "3.9.0"
  },
  "metadata": {
   "interpreter": {
    "hash": "b61b7dc30a799cf782db37eb6df61b2e72e133f554c7ce566ea27f561f985c87"
   }
  }
 },
 "nbformat": 4,
 "nbformat_minor": 5
}