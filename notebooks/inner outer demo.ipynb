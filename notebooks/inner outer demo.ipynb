{
 "cells": [
  {
   "cell_type": "code",
   "execution_count": 1,
   "metadata": {},
   "outputs": [],
   "source": [
    "import sys\n",
    "sys.path.append(\"..\")"
   ]
  },
  {
   "cell_type": "code",
   "execution_count": 2,
   "metadata": {},
   "outputs": [],
   "source": [
    "import spotlob\n",
    "from spotlob.process_opencv import SimpleReader, BinaryThreshold, ContourFinder, GaussianPreprocess, GreyscaleConverter, draw_contours\n",
    "import cv2\n",
    "import numpy"
   ]
  },
  {
   "cell_type": "code",
   "execution_count": 3,
   "metadata": {},
   "outputs": [],
   "source": [
    "filename = \"inner-outer-demo.png\""
   ]
  },
  {
   "cell_type": "code",
   "execution_count": 4,
   "metadata": {},
   "outputs": [],
   "source": [
    "reader = SimpleReader()\n",
    "converter = GreyscaleConverter()\n",
    "preprocessor = GaussianPreprocess(ksize=1)\n",
    "binarizer = BinaryThreshold(threshold=100)"
   ]
  },
  {
   "cell_type": "code",
   "execution_count": 9,
   "metadata": {},
   "outputs": [],
   "source": [
    "s1 = spotlob.Spim.from_file(filename, cached=True).read(reader).convert(converter).preprocess(preprocessor).binarize(binarizer)"
   ]
  },
  {
   "cell_type": "code",
   "execution_count": 0,
   "metadata": {},
   "outputs": [],
   "source": [
    "finder = ContourFinder(mode=\"all\")\n",
    "modes = sorted(finder.parameters[0].options)"
   ]
  },
  {
   "cell_type": "code",
   "execution_count": 0,
   "metadata": {},
   "outputs": [],
   "source": [
    "import matplotlib.pyplot as plt"
   ]
  },
  {
   "cell_type": "code",
   "execution_count": 0,
   "metadata": {},
   "outputs": [],
   "source": [
    "nh = int(numpy.ceil(len(modes)/2))\n",
    "size = 5\n",
    "fig, axes = plt.subplots(nh,2, figsize=(2*size, size*nh))\n",
    "\n",
    "for mode, ax in zip(modes, axes.flatten()):\n",
    "    finder = ContourFinder(mode=mode)\n",
    "    s2 = s1.extract_features(finder)\n",
    "    \n",
    "    contours = s2.metadata['contours']\n",
    "    \n",
    "    cimg = cv2.cvtColor(s2.image, cv2.COLOR_GRAY2RGB)\n",
    "    img = draw_contours(cimg, contours, color=(255,0,0), thickness=3)\n",
    "    ax.imshow(img)\n",
    "    ax.text(2,-10,mode)\n",
    "    ax.axis('off')\n",
    "\n"
   ]
  }
 ],
 "metadata": {
  "kernelspec": {
   "display_name": "Python 3",
   "language": "python",
   "name": "python3"
  },
  "language_info": {
   "codemirror_mode": {
    "name": "ipython",
    "version": 3
   },
   "file_extension": ".py",
   "mimetype": "text/x-python",
   "name": "python",
   "nbconvert_exporter": "python",
   "pygments_lexer": "ipython3",
   "version": "3.7.3"
  }
 },
 "nbformat": 4,
 "nbformat_minor": 2
}